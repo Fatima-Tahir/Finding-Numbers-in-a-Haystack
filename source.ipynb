{
 "cells": [
  {
   "cell_type": "code",
   "execution_count": 35,
   "metadata": {},
   "outputs": [
    {
     "name": "stdout",
     "output_type": "stream",
     "text": [
      "467547\n"
     ]
    }
   ],
   "source": [
    "import re\n",
    "lst=list()\n",
    "fhand=open(\"data.txt\")\n",
    "for line in fhand:\n",
    "    y=re.findall('[0-9]+',line)\n",
    "    if y:\n",
    "        for i in range(len(y)):\n",
    "            lst.append(int(y[i]))\n",
    "            \n",
    "print(sum(lst))   \n",
    "                       \n"
   ]
  },
  {
   "cell_type": "code",
   "execution_count": null,
   "metadata": {},
   "outputs": [],
   "source": []
  }
 ],
 "metadata": {
  "kernelspec": {
   "display_name": "Python 3",
   "language": "python",
   "name": "python3"
  },
  "language_info": {
   "codemirror_mode": {
    "name": "ipython",
    "version": 3
   },
   "file_extension": ".py",
   "mimetype": "text/x-python",
   "name": "python",
   "nbconvert_exporter": "python",
   "pygments_lexer": "ipython3",
   "version": "3.7.3"
  }
 },
 "nbformat": 4,
 "nbformat_minor": 2
}
